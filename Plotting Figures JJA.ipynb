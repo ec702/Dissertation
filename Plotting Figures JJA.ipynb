{
 "cells": [
  {
   "cell_type": "code",
   "execution_count": null,
   "metadata": {},
   "outputs": [],
   "source": [
    "import matplotlib.pyplot as plt\n",
    "import matplotlib.ticker as mticker\n",
    "from matplotlib import cm\n",
    "import sys\n",
    "import numpy as np\n",
    "import pandas as pd \n",
    "import netCDF4 as nc\n",
    "from cartopy import config\n",
    "import cartopy.crs as ccrs\n",
    "import os\n",
    "import shutil\n",
    "import tempfile\n",
    "from cartopy.mpl.gridliner import LONGITUDE_FORMATTER, LATITUDE_FORMATTER"
   ]
  },
  {
   "cell_type": "code",
   "execution_count": null,
   "metadata": {},
   "outputs": [],
   "source": [
    "np.set_printoptions(threshold=sys.maxsize)\n",
    "os.chdir(r\"C:\\Users\\eliza\\Documents\\Uni\\Project\\Data\")\n",
    "\n",
    "minlat = 110  # Set Latitude bounds (90 - 180 is NH, 0 - 90 is SH)\n",
    "maxlat = 130  \n",
    "minlong = 150  # Set Longitude Bounds\n",
    "maxlong = 180  # 0-360 for checking latitudes\n"
   ]
  },
  {
   "cell_type": "code",
   "execution_count": null,
   "metadata": {},
   "outputs": [],
   "source": [
    "fn = r\"WS\\1984.nc\"\n",
    "ds = nc.Dataset(fn)\n",
    "\n",
    "lon = np.linspace(-180, 180, 360)\n",
    "lat = np.linspace(-90, 90, 180)\n",
    "ws = ds.variables['ws'][:]\n",
    "jun = ds.variables['june'][:]\n",
    "jun6hr = jun[0::2]\n",
    "jun6hr = np.ma.filled(jun6hr, fill_value=0)\n",
    "translated = np.roll(jun6hr, 180, axis=2)\n",
    "junsize = np.size(jun6hr, 0)"
   ]
  },
  {
   "cell_type": "code",
   "execution_count": null,
   "metadata": {},
   "outputs": [],
   "source": [
    "color_map = plt.cm.get_cmap('gist_ncar')\n",
    "cmap = color_map.reversed()  # define the colormap\n",
    "\n",
    "cmaplist = [cmap(i) for i in range(cmap.N)]\n",
    "# force the first color entry to be grey\n",
    "cmaplist[0] = \"white\"#(.5, .5, .5, 1.0)\n",
    "\n",
    "# create the new map\n",
    "cmap = mpl.colors.LinearSegmentedColormap.from_list('Custom cmap', cmaplist, cmap.N)\n",
    "bounds = np.linspace(0, 11, 12)\n",
    "norm = mpl.colors.BoundaryNorm(bounds, cmap.N)"
   ]
  },
  {
   "cell_type": "code",
   "execution_count": null,
   "metadata": {
    "scrolled": false
   },
   "outputs": [],
   "source": [
    "a = -1\n",
    "entries = []\n",
    "\n",
    "for filename in os.listdir(\"DI_FRONT\\JJA1983-2004\\JJA_1984\\JUN\"):  # Run through the files in each folder\n",
    "    a += 1\n",
    "    if filename.endswith(\".nc\"):            \n",
    "        fn1 = os.path.join(\"DI_FRONT\\JJA1983-2004\\JJA_1984\\JUN\", filename)\n",
    "        ds1 = nc.Dataset(fn1)\n",
    "\n",
    "        lat1 = ds1.variables['latitude'][:]  # Define all relevant variables\n",
    "        lon1 = ds1.variables['longitude'][:]\n",
    "        ct = ds1.variables['coldtrail'][:]\n",
    "        dic = ds1.variables['di_coldtrail'][:]\n",
    "        cdi = ds1.variables['coldtrail_di'][:]\n",
    "        \n",
    "        WS = np.zeros((cdi.shape[0], cdi.shape[1]))  # shape must match cdi\n",
    "        WSX = np.zeros((cdi.shape[0], cdi.shape[1]))\n",
    "\n",
    "        for i in range(minlat, maxlat):\n",
    "            for j in range(minlong,maxlong):  # only choose points in desired latitude and longitude range\n",
    "                if cdi[i,j] != 0:\n",
    "                    WS[i,j] = translated[a,j,i]                    \n",
    "                elif ct[i,j] != 0:\n",
    "                    WSX[i,j] = translated[a,j,i]\n",
    "                    \n",
    "        is_all_zero = np.all((WS == 0))\n",
    "        \n",
    "        if is_all_zero:\n",
    "            pass\n",
    "        else:\n",
    "            fig = plt.figure(figsize=(20,20))\n",
    "            gs = fig.add_gridspec(3, 3)\n",
    "            ax1 = fig.add_subplot(gs[0:2, :], projection=ccrs.PlateCarree())\n",
    "            ax1.set_extent([-180, 180, -90, 90], crs=ccrs.PlateCarree())\n",
    "            ax1.gridlines(color='lightgrey', linestyle='-', draw_labels=True)\n",
    "            plt.contourf(lon1, lat1, WS, transform=ccrs.PlateCarree(), cmap = cmap,norm=norm)\n",
    "            ax1.coastlines()\n",
    "            plt.colorbar()\n",
    "            plt.show()\n",
    "            print(a)\n",
    "            entries.append(a)"
   ]
  },
  {
   "cell_type": "code",
   "execution_count": null,
   "metadata": {
    "scrolled": false
   },
   "outputs": [],
   "source": [
    "a = -1\n",
    "for filename in os.listdir(\"DI_FRONT\\JJA1983-2004\\JJA_1984\\JUN\"):  # Run through the files in each folder\n",
    "    a += 1\n",
    "    if filename.endswith(\".nc\"):            \n",
    "        fn1 = os.path.join(\"DI_FRONT\\JJA1983-2004\\JJA_1984\\JUN\", filename)\n",
    "        ds1 = nc.Dataset(fn1)\n",
    "\n",
    "        lat1 = ds1.variables['latitude'][:]  # Define all relevant variables\n",
    "        lon1 = ds1.variables['longitude'][:]\n",
    "        ct = ds1.variables['coldtrail'][:]\n",
    "        dic = ds1.variables['di_coldtrail'][:]\n",
    "        cdi = ds1.variables['coldtrail_di'][:]\n",
    "        \n",
    "        if a in entries:\n",
    "            \n",
    "            fig = plt.figure(figsize=(20,20))\n",
    "            gs = fig.add_gridspec(3, 3)\n",
    "            ax1 = fig.add_subplot(gs[0:2, :], projection=ccrs.PlateCarree())\n",
    "            ax1.set_extent([-180, 180, -90, 90], crs=ccrs.PlateCarree())\n",
    "            ax1.gridlines(color='lightgrey', linestyle='-', draw_labels=True)\n",
    "            plt.contour(lon1, lat1, cdi, transform=ccrs.PlateCarree())\n",
    "            ax1.coastlines()\n",
    "            plt.show()\n",
    "            print(a)\n"
   ]
  },
  {
   "cell_type": "code",
   "execution_count": null,
   "metadata": {
    "scrolled": false
   },
   "outputs": [],
   "source": [
    "for a in range(junsize):\n",
    "    if a in entries:\n",
    "        data = np.roll(jun6hr[a,:,:], 180, axis=0)\n",
    "        fig = plt.figure(figsize=(20,20))\n",
    "        gs = fig.add_gridspec(3, 3)\n",
    "        ax1 = fig.add_subplot(gs[0:2, :], projection=ccrs.PlateCarree())\n",
    "        ax1.set_extent([-180, 180, -90, 90], crs=ccrs.PlateCarree())\n",
    "        ax1.gridlines(color='lightgrey', linestyle='-', draw_labels=True)\n",
    "        plt.contourf(lon, lat, data.T, transform=ccrs.PlateCarree(), cmap = cmap,norm=norm)\n",
    "        ax1.coastlines()\n",
    "        plt.colorbar()\n",
    "        plt.show()\n",
    "        print(a)"
   ]
  },
  {
   "cell_type": "code",
   "execution_count": null,
   "metadata": {},
   "outputs": [],
   "source": [
    "print(entries)"
   ]
  },
  {
   "cell_type": "code",
   "execution_count": null,
   "metadata": {},
   "outputs": [],
   "source": []
  }
 ],
 "metadata": {
  "kernelspec": {
   "display_name": "Python 3",
   "language": "python",
   "name": "python3"
  },
  "language_info": {
   "codemirror_mode": {
    "name": "ipython",
    "version": 3
   },
   "file_extension": ".py",
   "mimetype": "text/x-python",
   "name": "python",
   "nbconvert_exporter": "python",
   "pygments_lexer": "ipython3",
   "version": "3.8.5"
  }
 },
 "nbformat": 4,
 "nbformat_minor": 4
}
